{
 "cells": [
  {
   "cell_type": "code",
   "execution_count": 1,
   "id": "479b7572",
   "metadata": {},
   "outputs": [
    {
     "name": "stdout",
     "output_type": "stream",
     "text": [
      "data_path.exists()=True\n",
      "len(data_files)=34\n"
     ]
    }
   ],
   "source": [
    "from pathlib import Path\n",
    "\n",
    "data_path = Path('./data/venus/raw')\n",
    "print(f'{data_path.exists()=}')\n",
    "data_files = list(data_path.glob('venus_data_*.db'))\n",
    "print(f'{len(data_files)=}')"
   ]
  },
  {
   "cell_type": "code",
   "execution_count": 2,
   "id": "aafa085f",
   "metadata": {},
   "outputs": [
    {
     "name": "stdout",
     "output_type": "stream",
     "text": [
      "Converting 34 files...\n",
      "Skipping file, converted file data/venus/venus_data_2025_08_10_19_12_09.parquet already exists\n",
      "Skipping file, converted file data/venus/venus_data_2025_08_20_19_12_14.parquet already exists\n",
      "Skipping file, converted file data/venus/venus_data_2025_08_01_07_44_59.parquet already exists\n",
      "Skipping file, converted file data/venus/venus_data_2025_08_16_19_12_13.parquet already exists\n",
      "Skipping file, converted file data/venus/venus_data_2025_08_06_07_45_01.parquet already exists\n",
      "Skipping file, converted file data/venus/venus_data_2025_09_02_19_12_19.parquet already exists\n",
      "Skipping file, converted file data/venus/venus_data_2025_09_01_19_12_18.parquet already exists\n",
      "Skipping file, converted file data/venus/venus_data_2025_08_08_19_12_09.parquet already exists\n",
      "Skipping file, converted file data/venus/venus_data_2025_08_12_19_12_11.parquet already exists\n",
      "Skipping file, converted file data/venus/venus_data_2025_08_17_19_12_14.parquet already exists\n",
      "Skipping file, converted file data/venus/venus_data_2025_08_09_19_12_09.parquet already exists\n",
      "Skipping file, converted file data/venus/venus_data_2025_08_03_07_44_59.parquet already exists\n",
      "Skipping file, converted file data/venus/venus_data_2025_08_06_19_12_08.parquet already exists\n",
      "Skipping file, converted file data/venus/venus_data_2025_08_19_19_12_14.parquet already exists\n",
      "Skipping file, converted file data/venus/venus_data_2025_08_26_19_12_16.parquet already exists\n",
      "Skipping file, converted file data/venus/venus_data_2025_08_31_19_12_18.parquet already exists\n",
      "Skipping file, converted file data/venus/venus_data_2025_08_29_19_12_18.parquet already exists\n",
      "Skipping file, converted file data/venus/venus_data_2025_08_21_19_12_15.parquet already exists\n",
      "Skipping file, converted file data/venus/venus_data_2025_08_05_07_45_01.parquet already exists\n",
      "Skipping file, converted file data/venus/venus_data_2025_08_22_19_12_15.parquet already exists\n",
      "Skipping file, converted file data/venus/venus_data_2025_08_07_19_12_09.parquet already exists\n",
      "Skipping file, converted file data/venus/venus_data_2025_08_23_19_12_15.parquet already exists\n",
      "Skipping file, converted file data/venus/venus_data_2025_08_25_19_12_16.parquet already exists\n",
      "Skipping file, converted file data/venus/venus_data_2025_08_02_07_44_59.parquet already exists\n",
      "Skipping file, converted file data/venus/venus_data_2025_08_28_19_12_17.parquet already exists\n",
      "Skipping file, converted file data/venus/venus_data_2025_08_15_19_12_12.parquet already exists\n",
      "Skipping file, converted file data/venus/venus_data_2025_08_14_19_12_11.parquet already exists\n",
      "Skipping file, converted file data/venus/venus_data_2025_08_11_19_12_10.parquet already exists\n",
      "Skipping file, converted file data/venus/venus_data_2025_08_13_19_12_11.parquet already exists\n",
      "Skipping file, converted file data/venus/venus_data_2025_08_30_19_12_18.parquet already exists\n",
      "Skipping file, converted file data/venus/venus_data_2025_08_24_19_12_15.parquet already exists\n",
      "Skipping file, converted file data/venus/venus_data_2025_08_18_19_12_14.parquet already exists\n",
      "Skipping file, converted file data/venus/venus_data_2025_08_04_07_45_00.parquet already exists\n",
      "Skipping file, converted file data/venus/venus_data_2025_08_27_19_12_16.parquet already exists\n",
      "File conversion complete. Skipped: 34/34.\n"
     ]
    }
   ],
   "source": [
    "from ops.ecris.analysis.io import convert_venus_db_files\n",
    "\n",
    "convert_venus_db_files(data_files, output_path=Path('./data/venus'))"
   ]
  },
  {
   "cell_type": "code",
   "execution_count": 9,
   "id": "2fb94e35",
   "metadata": {},
   "outputs": [],
   "source": [
    "import datetime as dt\n",
    "from ops.ecris.analysis.venus_data import files_in_timeframe, get_venus_data\n",
    "\n",
    "FMT = '%m/%d/%Y %H:%M:%S'\n",
    "start = dt.datetime.strptime('08/14/2025 0:0:0', FMT)\n",
    "stop = dt.datetime.strptime('08/16/2025 23:59:00', FMT)\n",
    "df = get_venus_data(Path('./data/venus'), 'inj_i', start, stop)"
   ]
  },
  {
   "cell_type": "code",
   "execution_count": 10,
   "id": "43ea40fc",
   "metadata": {},
   "outputs": [
    {
     "data": {
      "text/html": [
       "<div>\n",
       "<style scoped>\n",
       "    .dataframe tbody tr th:only-of-type {\n",
       "        vertical-align: middle;\n",
       "    }\n",
       "\n",
       "    .dataframe tbody tr th {\n",
       "        vertical-align: top;\n",
       "    }\n",
       "\n",
       "    .dataframe thead th {\n",
       "        text-align: right;\n",
       "    }\n",
       "</style>\n",
       "<table border=\"1\" class=\"dataframe\">\n",
       "  <thead>\n",
       "    <tr style=\"text-align: right;\">\n",
       "      <th></th>\n",
       "      <th>time</th>\n",
       "      <th>inj_i</th>\n",
       "    </tr>\n",
       "  </thead>\n",
       "  <tbody>\n",
       "    <tr>\n",
       "      <th>12937</th>\n",
       "      <td>2025-08-14 00:00:01.230</td>\n",
       "      <td>120.971428</td>\n",
       "    </tr>\n",
       "    <tr>\n",
       "      <th>12938</th>\n",
       "      <td>2025-08-14 00:00:02.558</td>\n",
       "      <td>120.975334</td>\n",
       "    </tr>\n",
       "    <tr>\n",
       "      <th>12939</th>\n",
       "      <td>2025-08-14 00:00:03.910</td>\n",
       "      <td>120.975334</td>\n",
       "    </tr>\n",
       "    <tr>\n",
       "      <th>12940</th>\n",
       "      <td>2025-08-14 00:00:05.232</td>\n",
       "      <td>120.979248</td>\n",
       "    </tr>\n",
       "    <tr>\n",
       "      <th>12941</th>\n",
       "      <td>2025-08-14 00:00:06.573</td>\n",
       "      <td>120.971428</td>\n",
       "    </tr>\n",
       "    <tr>\n",
       "      <th>...</th>\n",
       "      <td>...</td>\n",
       "      <td>...</td>\n",
       "    </tr>\n",
       "    <tr>\n",
       "      <th>12886</th>\n",
       "      <td>2025-08-16 23:58:53.407</td>\n",
       "      <td>184.999710</td>\n",
       "    </tr>\n",
       "    <tr>\n",
       "      <th>12887</th>\n",
       "      <td>2025-08-16 23:58:54.737</td>\n",
       "      <td>185.003616</td>\n",
       "    </tr>\n",
       "    <tr>\n",
       "      <th>12888</th>\n",
       "      <td>2025-08-16 23:58:56.062</td>\n",
       "      <td>184.995804</td>\n",
       "    </tr>\n",
       "    <tr>\n",
       "      <th>12889</th>\n",
       "      <td>2025-08-16 23:58:57.413</td>\n",
       "      <td>185.003616</td>\n",
       "    </tr>\n",
       "    <tr>\n",
       "      <th>12890</th>\n",
       "      <td>2025-08-16 23:58:58.742</td>\n",
       "      <td>184.999710</td>\n",
       "    </tr>\n",
       "  </tbody>\n",
       "</table>\n",
       "<p>194130 rows × 2 columns</p>\n",
       "</div>"
      ],
      "text/plain": [
       "                         time       inj_i\n",
       "12937 2025-08-14 00:00:01.230  120.971428\n",
       "12938 2025-08-14 00:00:02.558  120.975334\n",
       "12939 2025-08-14 00:00:03.910  120.975334\n",
       "12940 2025-08-14 00:00:05.232  120.979248\n",
       "12941 2025-08-14 00:00:06.573  120.971428\n",
       "...                       ...         ...\n",
       "12886 2025-08-16 23:58:53.407  184.999710\n",
       "12887 2025-08-16 23:58:54.737  185.003616\n",
       "12888 2025-08-16 23:58:56.062  184.995804\n",
       "12889 2025-08-16 23:58:57.413  185.003616\n",
       "12890 2025-08-16 23:58:58.742  184.999710\n",
       "\n",
       "[194130 rows x 2 columns]"
      ]
     },
     "execution_count": 10,
     "metadata": {},
     "output_type": "execute_result"
    }
   ],
   "source": [
    "df"
   ]
  },
  {
   "cell_type": "code",
   "execution_count": null,
   "id": "c35d8dc0",
   "metadata": {},
   "outputs": [],
   "source": []
  }
 ],
 "metadata": {
  "kernelspec": {
   "display_name": ".venv (3.13.7)",
   "language": "python",
   "name": "python3"
  },
  "language_info": {
   "codemirror_mode": {
    "name": "ipython",
    "version": 3
   },
   "file_extension": ".py",
   "mimetype": "text/x-python",
   "name": "python",
   "nbconvert_exporter": "python",
   "pygments_lexer": "ipython3",
   "version": "3.13.7"
  }
 },
 "nbformat": 4,
 "nbformat_minor": 5
}
