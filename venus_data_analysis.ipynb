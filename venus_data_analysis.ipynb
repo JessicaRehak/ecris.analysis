{
 "cells": [
  {
   "cell_type": "code",
   "execution_count": 3,
   "id": "479b7572",
   "metadata": {},
   "outputs": [
    {
     "name": "stdout",
     "output_type": "stream",
     "text": [
      "data_path.exists()=True\n",
      "len(data_files)=34\n"
     ]
    }
   ],
   "source": [
    "from pathlib import Path\n",
    "\n",
    "data_path = Path('./data/venus/raw')\n",
    "print(f'{data_path.exists()=}')\n",
    "data_files = list(data_path.glob('venus_data_*.db'))\n",
    "print(f'{len(data_files)=}')"
   ]
  },
  {
   "cell_type": "code",
   "execution_count": 4,
   "id": "aafa085f",
   "metadata": {},
   "outputs": [
    {
     "name": "stdout",
     "output_type": "stream",
     "text": [
      "Converting 34 files...\n",
      "Skipping file, converted file data/venus/venus_data_2025_08_10_19_12_09.parquet already exists\n",
      "Skipping file, converted file data/venus/venus_data_2025_08_01_07_44_59.parquet already exists\n",
      "Skipping file, converted file data/venus/venus_data_2025_08_06_07_45_01.parquet already exists\n",
      "Skipping file, converted file data/venus/venus_data_2025_08_08_19_12_09.parquet already exists\n",
      "Skipping file, converted file data/venus/venus_data_2025_08_12_19_12_11.parquet already exists\n",
      "Skipping file, converted file data/venus/venus_data_2025_08_09_19_12_09.parquet already exists\n",
      "Skipping file, converted file data/venus/venus_data_2025_08_03_07_44_59.parquet already exists\n",
      "Skipping file, converted file data/venus/venus_data_2025_08_06_19_12_08.parquet already exists\n",
      "Skipping file, converted file data/venus/venus_data_2025_08_05_07_45_01.parquet already exists\n",
      "Skipping file, converted file data/venus/venus_data_2025_08_07_19_12_09.parquet already exists\n",
      "Skipping file, converted file data/venus/venus_data_2025_08_02_07_44_59.parquet already exists\n",
      "Skipping file, converted file data/venus/venus_data_2025_08_15_19_12_12.parquet already exists\n",
      "Skipping file, converted file data/venus/venus_data_2025_08_14_19_12_11.parquet already exists\n",
      "Skipping file, converted file data/venus/venus_data_2025_08_11_19_12_10.parquet already exists\n",
      "Skipping file, converted file data/venus/venus_data_2025_08_13_19_12_11.parquet already exists\n",
      "Skipping file, converted file data/venus/venus_data_2025_08_04_07_45_00.parquet already exists\n",
      "File conversion complete. Skipped: 16/34.\n"
     ]
    }
   ],
   "source": [
    "from ops.ecris.analysis.io import convert_venus_db_files\n",
    "\n",
    "convert_venus_db_files(data_files, output_path=Path('./data/venus'))"
   ]
  },
  {
   "cell_type": "code",
   "execution_count": null,
   "id": "2fb94e35",
   "metadata": {},
   "outputs": [],
   "source": []
  }
 ],
 "metadata": {
  "kernelspec": {
   "display_name": ".venv (3.13.7)",
   "language": "python",
   "name": "python3"
  },
  "language_info": {
   "codemirror_mode": {
    "name": "ipython",
    "version": 3
   },
   "file_extension": ".py",
   "mimetype": "text/x-python",
   "name": "python",
   "nbconvert_exporter": "python",
   "pygments_lexer": "ipython3",
   "version": "3.13.7"
  }
 },
 "nbformat": 4,
 "nbformat_minor": 5
}
